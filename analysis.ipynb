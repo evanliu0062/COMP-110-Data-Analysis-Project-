{
 "cells": [
  {
   "cell_type": "markdown",
   "source": [
    "## Hypothesis: \n",
    "### I believe that there are more COMP SCI Majors enrolled in COMP 110 than Non-COMP SCI Majors, and that the amount of people that would recommend this class is greater than those who wouldn't."
   ],
   "metadata": {}
  },
  {
   "cell_type": "markdown",
   "source": [
    "### First line of code, as stated in projeect instructions."
   ],
   "metadata": {}
  },
  {
   "cell_type": "code",
   "execution_count": 54,
   "source": [
    "%reload_ext autoreload\n",
    "%autoreload 2"
   ],
   "outputs": [],
   "metadata": {}
  },
  {
   "cell_type": "markdown",
   "source": [
    "### Step 1: Read the csv and convert it from a row into a column oriented data table."
   ],
   "metadata": {}
  },
  {
   "cell_type": "code",
   "execution_count": 55,
   "source": [
    "from data_utils import read_csv_rows, columnar\n",
    "\n",
    "data_rows: list[dict[str, str]] = read_csv_rows('../../data/survey.csv')\n",
    "columns: dict[str, list[str]] = columnar(data_rows)"
   ],
   "outputs": [],
   "metadata": {}
  },
  {
   "cell_type": "markdown",
   "source": [
    "### Step 2: Select the section column for \"comp_major\" and assigned it to the variable `subset1`, here are the first 10 rows."
   ],
   "metadata": {}
  },
  {
   "cell_type": "code",
   "execution_count": 56,
   "source": [
    "from data_utils import head, select\n",
    "subset1: dict[str, list[str]] = select(columns, [\"comp_major\"])\n",
    "head(subset1, 10)"
   ],
   "outputs": [
    {
     "output_type": "execute_result",
     "data": {
      "text/plain": [
       "{'comp_major': ['No', 'No', 'No', 'No', 'No', 'No', 'No', 'No', 'No', 'No']}"
      ]
     },
     "metadata": {},
     "execution_count": 56
    }
   ],
   "metadata": {}
  },
  {
   "cell_type": "markdown",
   "source": [
    "### Step 3: Select the section column for \"would_recommend\" and assigned it to the variable `subset2`, here are the first 10 rows."
   ],
   "metadata": {}
  },
  {
   "cell_type": "code",
   "execution_count": 57,
   "source": [
    "from data_utils import head, select\n",
    "subset2: dict[str, list[str]] = select(columns, [\"would_recommend\"])\n",
    "head(subset2, 10)"
   ],
   "outputs": [
    {
     "output_type": "execute_result",
     "data": {
      "text/plain": [
       "{'would_recommend': ['7', '7', '7', '7', '7', '4', '6', '4', '6', '5']}"
      ]
     },
     "metadata": {},
     "execution_count": 57
    }
   ],
   "metadata": {}
  },
  {
   "cell_type": "markdown",
   "source": [
    "### Step 4: Use the count function to count how many people are COMP SCI Majors and how many aren't."
   ],
   "metadata": {}
  },
  {
   "cell_type": "code",
   "execution_count": 60,
   "source": [
    "from data_utils import count, majors_minors_grouped\n",
    "major_count = count(subset1['comp_major'])\n",
    "\n",
    "print(f\"COMP SCI Majors: {majors_minors_grouped(major_count)}\")\n",
    "print(f\"Not COMP SCI Majors: {major_count['No']}\")"
   ],
   "outputs": [
    {
     "output_type": "stream",
     "name": "stdout",
     "text": [
      "COMP SCI Majors: 169\n",
      "Not COMP SCI Majors: 404\n"
     ]
    }
   ],
   "metadata": {}
  },
  {
   "cell_type": "markdown",
   "source": [
    "### Step 5: Use the count function to count how many people would recommend COMP 110 to others and how many wouldn't."
   ],
   "metadata": {}
  },
  {
   "cell_type": "code",
   "execution_count": 64,
   "source": [
    "from data_utils import count, recommend_yes, recommend_no\n",
    "recommend_count = count(subset2['would_recommend'])\n",
    "\n",
    "print(f\"Would Recommend: {recommend_yes(recommend_count)}\")\n",
    "print(f\"Wouldn't Recommend: {recommend_no(recommend_count)}\")"
   ],
   "outputs": [
    {
     "output_type": "stream",
     "name": "stdout",
     "text": [
      "Would Recommend: 423\n",
      "Wouldn't Recommend: 150\n"
     ]
    }
   ],
   "metadata": {}
  },
  {
   "cell_type": "markdown",
   "source": [
    "## Conclusion:\n",
    "### There turned out to be more Non-COMP SCI Majors taking COMP 110 than COMP SCI Majors. This could be due to many people from other majors that have an interest in Computer Science and would like to try out an intro course to see what it's all about.\n",
    "### The second part of my hypothesis was correct, there were in fact more people that would recommend the course than people who wouldn't. This is most likely due to the fact that the course was very well structured with great instructors, leaving many with a great first impression of Computer Science.\n",
    "### In conclusion, the first part of my hypothesis was wrong, there are not more COMP SCI Majors taking COMP 110 than Non-COMP SCI Majors. The second part of my hypothesis, however, was correct, there were more people that would recommend COMP 110 than people who wouldn’t.\n"
   ],
   "metadata": {}
  }
 ],
 "metadata": {
  "orig_nbformat": 4,
  "language_info": {
   "name": "python",
   "version": "3.9.6",
   "mimetype": "text/x-python",
   "codemirror_mode": {
    "name": "ipython",
    "version": 3
   },
   "pygments_lexer": "ipython3",
   "nbconvert_exporter": "python",
   "file_extension": ".py"
  },
  "kernelspec": {
   "name": "python3",
   "display_name": "Python 3.9.6 64-bit"
  },
  "interpreter": {
   "hash": "aee8b7b246df8f9039afb4144a1f6fd8d2ca17a180786b69acc140d282b71a49"
  }
 },
 "nbformat": 4,
 "nbformat_minor": 2
}